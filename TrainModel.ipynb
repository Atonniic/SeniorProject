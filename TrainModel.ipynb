{
 "cells": [
  {
   "cell_type": "code",
   "execution_count": 22,
   "id": "1c2839a5-4bdb-4fe3-847c-520daace3eea",
   "metadata": {},
   "outputs": [],
   "source": [
    "import pandas as pd\n",
    "import time\n",
    "from sklearn.feature_extraction.text import TfidfVectorizer\n",
    "from sklearn.naive_bayes import MultinomialNB\n",
    "from sklearn.tree import DecisionTreeClassifier\n",
    "from sklearn.ensemble import RandomForestClassifier\n",
    "from sklearn.metrics import accuracy_score, recall_score, precision_score, classification_report, confusion_matrix"
   ]
  },
  {
   "cell_type": "code",
   "execution_count": 23,
   "id": "ff9fcb12-5bbb-486e-ab64-e91ebe55fbcf",
   "metadata": {},
   "outputs": [],
   "source": [
    "# Load the datasets\n",
    "X_train = pd.read_csv('Training_Set.csv')\n",
    "y_train = pd.read_csv('Training_Labels.csv')\n",
    "X_test = pd.read_csv('Test_Set.csv')\n",
    "y_test = pd.read_csv('Test_Labels.csv')"
   ]
  },
  {
   "cell_type": "code",
   "execution_count": 24,
   "id": "ae5eff4d-ee46-4a1c-965e-919f7200401a",
   "metadata": {},
   "outputs": [],
   "source": [
    "# Combine text fields into a single field for vectorization\n",
    "X_train['text'] = X_train['subject'] + ' ' + X_train['body']\n",
    "X_test['text'] = X_test['subject'] + ' ' + X_test['body']"
   ]
  },
  {
   "cell_type": "code",
   "execution_count": 25,
   "id": "f98e404c-6a46-4f05-ad14-975a82809c8f",
   "metadata": {},
   "outputs": [],
   "source": [
    "# Vectorize the text data using TF-IDF\n",
    "vectorizer = TfidfVectorizer(max_features=5000)\n",
    "X_train_tfidf = vectorizer.fit_transform(X_train['text'])\n",
    "X_test_tfidf = vectorizer.transform(X_test['text'])"
   ]
  },
  {
   "cell_type": "code",
   "execution_count": 26,
   "id": "d3f0f4f8-9fb4-4060-b7e1-1a81d1cdf6f5",
   "metadata": {},
   "outputs": [],
   "source": [
    "# Dictionary to store results\n",
    "results = {}"
   ]
  },
  {
   "cell_type": "code",
   "execution_count": 27,
   "id": "06987f02-b53a-4dd3-86db-c26f868e7edd",
   "metadata": {},
   "outputs": [],
   "source": [
    "# Function to evaluate model\n",
    "def evaluate_model(model, X_train, y_train, X_test, y_test):\n",
    "    start_time = time.time()\n",
    "    model.fit(X_train, y_train.values.ravel())\n",
    "    end_time = time.time()\n",
    "    training_time = end_time - start_time\n",
    "    \n",
    "    y_pred = model.predict(X_test)\n",
    "    \n",
    "    accuracy = accuracy_score(y_test, y_pred)\n",
    "    recall = recall_score(y_test, y_pred)\n",
    "    precision = precision_score(y_test, y_pred)\n",
    "    \n",
    "    return training_time, accuracy, recall, precision, y_pred"
   ]
  },
  {
   "cell_type": "code",
   "execution_count": 28,
   "id": "2dcb98fb-4847-4721-b335-a4be9d6cbe72",
   "metadata": {},
   "outputs": [],
   "source": [
    "# Naive Bayes\n",
    "nb_model = MultinomialNB()\n",
    "nb_results = evaluate_model(nb_model, X_train_tfidf, y_train, X_test_tfidf, y_test)\n",
    "results['Naive Bayes'] = nb_results"
   ]
  },
  {
   "cell_type": "code",
   "execution_count": 29,
   "id": "6e639887-6bad-47a9-a377-b760516ca061",
   "metadata": {},
   "outputs": [],
   "source": [
    "# Decision Tree\n",
    "dt_model = DecisionTreeClassifier()\n",
    "dt_results = evaluate_model(dt_model, X_train_tfidf, y_train, X_test_tfidf, y_test)\n",
    "results['Decision Tree'] = dt_results"
   ]
  },
  {
   "cell_type": "code",
   "execution_count": 30,
   "id": "514a6bd3-7e20-4104-85e4-cc7dc0dd6145",
   "metadata": {},
   "outputs": [],
   "source": [
    "# Random Forest\n",
    "rf_model = RandomForestClassifier(n_estimators=100, random_state=42)\n",
    "rf_results = evaluate_model(rf_model, X_train_tfidf, y_train, X_test_tfidf, y_test)\n",
    "results['Random Forest'] = rf_results"
   ]
  },
  {
   "cell_type": "code",
   "execution_count": 31,
   "id": "42f2540d-f2de-4b25-ad0a-3ca44022a34a",
   "metadata": {},
   "outputs": [
    {
     "name": "stdout",
     "output_type": "stream",
     "text": [
      "Model: Naive Bayes\n",
      "Training Time: 0.0050 seconds\n",
      "Accuracy: 0.9909\n",
      "Recall: 0.9949\n",
      "Precision: 0.9915\n",
      "Classification Report:\n",
      "              precision    recall  f1-score   support\n",
      "\n",
      "           0       0.99      0.98      0.99       288\n",
      "           1       0.99      0.99      0.99       587\n",
      "\n",
      "    accuracy                           0.99       875\n",
      "   macro avg       0.99      0.99      0.99       875\n",
      "weighted avg       0.99      0.99      0.99       875\n",
      "\n",
      "Confusion Matrix:\n",
      "[[283   5]\n",
      " [  3 584]]\n",
      "\n",
      "Model: Decision Tree\n",
      "Training Time: 1.3800 seconds\n",
      "Accuracy: 0.9634\n",
      "Recall: 0.9761\n",
      "Precision: 0.9695\n",
      "Classification Report:\n",
      "              precision    recall  f1-score   support\n",
      "\n",
      "           0       0.95      0.94      0.94       288\n",
      "           1       0.97      0.98      0.97       587\n",
      "\n",
      "    accuracy                           0.96       875\n",
      "   macro avg       0.96      0.96      0.96       875\n",
      "weighted avg       0.96      0.96      0.96       875\n",
      "\n",
      "Confusion Matrix:\n",
      "[[270  18]\n",
      " [ 14 573]]\n",
      "\n",
      "Model: Random Forest\n",
      "Training Time: 2.0761 seconds\n",
      "Accuracy: 0.9920\n",
      "Recall: 0.9966\n",
      "Precision: 0.9915\n",
      "Classification Report:\n",
      "              precision    recall  f1-score   support\n",
      "\n",
      "           0       0.99      0.98      0.99       288\n",
      "           1       0.99      1.00      0.99       587\n",
      "\n",
      "    accuracy                           0.99       875\n",
      "   macro avg       0.99      0.99      0.99       875\n",
      "weighted avg       0.99      0.99      0.99       875\n",
      "\n",
      "Confusion Matrix:\n",
      "[[283   5]\n",
      " [  2 585]]\n",
      "\n"
     ]
    }
   ],
   "source": [
    "# Print results\n",
    "for model_name, result in results.items():\n",
    "    print(f\"Model: {model_name}\")\n",
    "    print(f\"Training Time: {result[0]:.4f} seconds\")\n",
    "    print(f\"Accuracy: {result[1]:.4f}\")\n",
    "    print(f\"Recall: {result[2]:.4f}\")\n",
    "    print(f\"Precision: {result[3]:.4f}\")\n",
    "    print(f\"Classification Report:\\n{classification_report(y_test, result[4])}\")\n",
    "    print(f\"Confusion Matrix:\\n{confusion_matrix(y_test, result[4])}\\n\")"
   ]
  },
  {
   "cell_type": "code",
   "execution_count": null,
   "id": "f110d606-f4ae-4e5d-8057-748cee334a76",
   "metadata": {},
   "outputs": [],
   "source": []
  }
 ],
 "metadata": {
  "kernelspec": {
   "display_name": "Python 3 (ipykernel)",
   "language": "python",
   "name": "python3"
  },
  "language_info": {
   "codemirror_mode": {
    "name": "ipython",
    "version": 3
   },
   "file_extension": ".py",
   "mimetype": "text/x-python",
   "name": "python",
   "nbconvert_exporter": "python",
   "pygments_lexer": "ipython3",
   "version": "3.11.4"
  }
 },
 "nbformat": 4,
 "nbformat_minor": 5
}

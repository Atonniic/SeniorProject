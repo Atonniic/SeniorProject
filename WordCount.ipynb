{
 "cells": [
  {
   "cell_type": "code",
   "execution_count": 1,
   "id": "e78b2556-98c4-46b7-a16d-f5231d8ccb1f",
   "metadata": {},
   "outputs": [],
   "source": [
    "import pandas as pd\n",
    "from collections import Counter"
   ]
  },
  {
   "cell_type": "code",
   "execution_count": 2,
   "id": "5a5a9eef-2a39-4802-90a7-483cfc01f2a5",
   "metadata": {},
   "outputs": [],
   "source": [
    "# ฟังก์ชันนับความถี่คำและเรียงลำดับ\n",
    "def getWordCount(data, columnName):\n",
    "    allWords = ' '.join(data[columnName].fillna('')).lower().split()\n",
    "    wordCount = Counter(allWords)\n",
    "    wordCountDataFrame = pd.DataFrame(wordCount.items(), columns=['Word', 'Frequency']).sort_values(by='Frequency', ascending=False)\n",
    "    return wordCountDataFrame"
   ]
  },
  {
   "cell_type": "code",
   "execution_count": 3,
   "id": "c9125826-f11a-41f9-bafa-6a2f218bd26c",
   "metadata": {},
   "outputs": [],
   "source": [
    "# โหลดข้อมูลจากทั้งสองไฟล์แล้วรวมกัน\n",
    "trainData01 = pd.read_csv('TrainData01.csv')\n",
    "trainData02 = pd.read_csv('TrainData02.csv')\n",
    "testData = pd.read_csv('TestData.csv')\n",
    "allData = pd.concat([trainData01, trainData02, testData], ignore_index=True)"
   ]
  },
  {
   "cell_type": "code",
   "execution_count": 4,
   "id": "08c67f41-e974-452b-b045-bb69db48bb0a",
   "metadata": {},
   "outputs": [],
   "source": [
    "# กรองเฉพาะข้อมูลที่มี label = 1\n",
    "phishingData = allData[allData['label'] == 1]"
   ]
  },
  {
   "cell_type": "code",
   "execution_count": 5,
   "id": "fe33eda8-8b1f-45fe-9047-7186ef48baca",
   "metadata": {},
   "outputs": [],
   "source": [
    "# นับความถี่คำใน subject และ body\n",
    "subjectWordCount = getWordCount(phishingData, 'subject')\n",
    "bodyWordCount = getWordCount(phishingData, 'cleanMessage')"
   ]
  },
  {
   "cell_type": "code",
   "execution_count": 6,
   "id": "5590b5c7-cd06-4753-9f8d-1446784eb11e",
   "metadata": {},
   "outputs": [],
   "source": [
    "# บันทึกผลลัพธ์เป็นไฟล์ CSV\n",
    "subjectWordCount.to_csv('SubjectWordCountPhishingSorted.csv', index=False)\n",
    "bodyWordCount.to_csv('BodyWordCountPhishingSorted.csv', index=False)"
   ]
  }
 ],
 "metadata": {
  "kernelspec": {
   "display_name": "Python 3 (ipykernel)",
   "language": "python",
   "name": "python3"
  },
  "language_info": {
   "codemirror_mode": {
    "name": "ipython",
    "version": 3
   },
   "file_extension": ".py",
   "mimetype": "text/x-python",
   "name": "python",
   "nbconvert_exporter": "python",
   "pygments_lexer": "ipython3",
   "version": "3.11.4"
  }
 },
 "nbformat": 4,
 "nbformat_minor": 5
}

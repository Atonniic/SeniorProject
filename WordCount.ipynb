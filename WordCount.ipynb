{
 "cells": [
  {
   "cell_type": "code",
   "execution_count": 19,
   "id": "ea0d9a53-9c8f-4d17-84c2-ca588d11201f",
   "metadata": {},
   "outputs": [],
   "source": [
    "import pandas as pd\n",
    "from collections import Counter\n",
    "import re"
   ]
  },
  {
   "cell_type": "code",
   "execution_count": 20,
   "id": "0ea9999f-87ff-4d06-a00c-85236488fe71",
   "metadata": {},
   "outputs": [],
   "source": [
    "# อ่านไฟล์ข้อมูล\n",
    "trainingSet = pd.read_csv('Training_Set.csv')\n",
    "testSet = pd.read_csv('Test_Set.csv')"
   ]
  },
  {
   "cell_type": "code",
   "execution_count": 21,
   "id": "3bf470e6-3c80-4ef9-9b88-56112d164acd",
   "metadata": {},
   "outputs": [],
   "source": [
    "# ฟังก์ชันทำความสะอาดข้อความและนับความถี่คำ\n",
    "def wordFrequency(textColumn):\n",
    "    allWords = ' '.join(textColumn.dropna()).lower()  # รวมข้อความทั้งหมดเป็นสตริงเดียว\n",
    "    allWords = re.findall(r'\\b\\w+\\b', allWords)  # แยกคำด้วย regex (รักษาคำที่เป็นตัวอักษรและตัวเลข)\n",
    "    wordCount = Counter(allWords)  # นับความถี่ของคำ\n",
    "    return wordCount"
   ]
  },
  {
   "cell_type": "code",
   "execution_count": 22,
   "id": "0df4fcdc-ebf1-41ff-9413-a3cf8f711fa0",
   "metadata": {},
   "outputs": [],
   "source": [
    "# นับความถี่คำในคอลัมน์ subject และ body ของ Training Set\n",
    "subjectWordCountTrain = wordFrequency(trainingSet['subject'])\n",
    "bodyWordCountTrain = wordFrequency(trainingSet['body'])"
   ]
  },
  {
   "cell_type": "code",
   "execution_count": 23,
   "id": "80d2c4d6-6109-4578-9d66-0523dc106a0a",
   "metadata": {},
   "outputs": [],
   "source": [
    "# นับความถี่คำในคอลัมน์ subject และ body ของ Test Set\n",
    "subjectWordCountTest = wordFrequency(testSet['subject'])\n",
    "bodyWordCountTest = wordFrequency(testSet['body'])"
   ]
  },
  {
   "cell_type": "code",
   "execution_count": 24,
   "id": "09036ca7-e34b-4f55-a187-210bb3a987ee",
   "metadata": {},
   "outputs": [],
   "source": [
    "# แปลงความถี่ของคำเป็น DataFrame และเรียงลำดับจากมากไปน้อย\n",
    "subjectWordCountTrainDf = pd.DataFrame(subjectWordCountTrain.items(), columns=['Word', 'Frequency']).sort_values(by='Frequency', ascending=False)\n",
    "bodyWordCountTrainDf = pd.DataFrame(bodyWordCountTrain.items(), columns=['Word', 'Frequency']).sort_values(by='Frequency', ascending=False)"
   ]
  },
  {
   "cell_type": "code",
   "execution_count": 25,
   "id": "4171c94d-abdd-4a59-8932-7120216a0a16",
   "metadata": {},
   "outputs": [],
   "source": [
    "subjectWordCountTestDf = pd.DataFrame(subjectWordCountTest.items(), columns=['Word', 'Frequency']).sort_values(by='Frequency', ascending=False)\n",
    "bodyWordCountTestDf = pd.DataFrame(bodyWordCountTest.items(), columns=['Word', 'Frequency']).sort_values(by='Frequency', ascending=False)"
   ]
  },
  {
   "cell_type": "code",
   "execution_count": 28,
   "id": "2e613ace-71bf-4c61-a042-8b269bf7ffcf",
   "metadata": {},
   "outputs": [],
   "source": [
    "# บันทึกข้อมูลลงในไฟล์ CSV โดยใช้ PascalCase และเรียงลำดับจากความถี่มากไปน้อย\n",
    "subjectWordCountTrainDf.to_csv('SubjectWordCountTrainSorted.csv', index=False)\n",
    "bodyWordCountTrainDf.to_csv('BodyWordCountTrainSorted.csv', index=False)"
   ]
  },
  {
   "cell_type": "code",
   "execution_count": 29,
   "id": "b1716120-f2c8-474c-ae90-9a32517fbd3b",
   "metadata": {},
   "outputs": [],
   "source": [
    "subjectWordCountTestDf.to_csv('SubjectWordCountTestSorted.csv', index=False)\n",
    "bodyWordCountTestDf.to_csv('BodyWordCountTestSorted.csv', index=False)"
   ]
  },
  {
   "cell_type": "code",
   "execution_count": 30,
   "id": "0ab896f2-f93a-467e-b75f-cc2531b97b29",
   "metadata": {},
   "outputs": [
    {
     "name": "stdout",
     "output_type": "stream",
     "text": [
      "Total unique words in Training Set subject: 3365\n",
      "Total unique words in Training Set body: 64735\n",
      "Total unique words in Test Set subject: 1612\n",
      "Total unique words in Test Set body: 19166\n"
     ]
    }
   ],
   "source": [
    "# แสดงจำนวนคำทั้งหมดในแต่ละคอลัมน์ (optional)\n",
    "print(f\"Total unique words in Training Set subject: {len(subjectWordCountTrain)}\")\n",
    "print(f\"Total unique words in Training Set body: {len(bodyWordCountTrain)}\")\n",
    "\n",
    "print(f\"Total unique words in Test Set subject: {len(subjectWordCountTest)}\")\n",
    "print(f\"Total unique words in Test Set body: {len(bodyWordCountTest)}\")"
   ]
  },
  {
   "cell_type": "code",
   "execution_count": null,
   "id": "c4ef7afe-450d-48cb-928a-02edc6ff08af",
   "metadata": {},
   "outputs": [],
   "source": []
  }
 ],
 "metadata": {
  "kernelspec": {
   "display_name": "Python 3 (ipykernel)",
   "language": "python",
   "name": "python3"
  },
  "language_info": {
   "codemirror_mode": {
    "name": "ipython",
    "version": 3
   },
   "file_extension": ".py",
   "mimetype": "text/x-python",
   "name": "python",
   "nbconvert_exporter": "python",
   "pygments_lexer": "ipython3",
   "version": "3.11.4"
  }
 },
 "nbformat": 4,
 "nbformat_minor": 5
}

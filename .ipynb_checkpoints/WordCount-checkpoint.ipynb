{
 "cells": [
  {
   "cell_type": "code",
   "execution_count": null,
   "id": "0d30425a-a06c-4a66-b64d-6f5a09b7b86e",
   "metadata": {},
   "outputs": [],
   "source": [
    "import pandas as pd\n",
    "from collections import Counter\n",
    "import re"
   ]
  },
  {
   "cell_type": "code",
   "execution_count": null,
   "id": "8e3e4d77-1de4-4d8a-8ba1-42102ec3709f",
   "metadata": {},
   "outputs": [],
   "source": [
    "# อ่านไฟล์ข้อมูล\n",
    "phishingDf = pd.read_csv('Phishing.csv')"
   ]
  },
  {
   "cell_type": "code",
   "execution_count": null,
   "id": "9f99a706-38f7-4368-a0cc-50230cd9df4b",
   "metadata": {},
   "outputs": [],
   "source": [
    "# จัดการคอลัมน์ให้สอดคล้องกัน\n",
    "# เรียงคอลัมน์ให้เหมือนกัน: sender, receiver, date, subject, body, urls, label\n",
    "phishingDf = phishingDf[['sender', 'receiver', 'date', 'subject', 'body', 'urls', 'label']]"
   ]
  },
  {
   "cell_type": "code",
   "execution_count": null,
   "id": "1f164d16-164a-4243-98d9-c05a3f2e67c1",
   "metadata": {},
   "outputs": [],
   "source": [
    "# ทำความสะอาดข้อมูล โดยลบแถวที่มีค่าว่างในคอลัมน์ที่สำคัญ\n",
    "phishingEmails = pd.concat([phishingDf], ignore_index=True)\n",
    "phishingEmails.dropna(subset=['sender', 'receiver', 'date', 'subject', 'body', 'urls', 'label'], inplace=True)"
   ]
  },
  {
   "cell_type": "code",
   "execution_count": null,
   "id": "093c97bc-6103-43d6-8d8a-a9c33276e0bd",
   "metadata": {},
   "outputs": [],
   "source": [
    "# ฟังก์ชันทำความสะอาดข้อความและนับความถี่คำ\n",
    "def wordFrequency(textColumn):\n",
    "    allWords = ' '.join(textColumn.dropna()).lower()  # รวมข้อความทั้งหมดเป็นสตริงเดียว\n",
    "    allWords = re.findall(r'\\b\\w+\\b', allWords)  # แยกคำด้วย regex (รักษาคำที่เป็นตัวอักษรและตัวเลข)\n",
    "    wordCount = Counter(allWords)  # นับความถี่ของคำ\n",
    "    return wordCount"
   ]
  },
  {
   "cell_type": "code",
   "execution_count": null,
   "id": "6225ed50-fbb8-4d25-8a0e-58cd0b207a0f",
   "metadata": {},
   "outputs": [],
   "source": [
    "# นับความถี่คำในคอลัมน์ subject และ body ของ data Set\n",
    "subjectWordCount = wordFrequency(phishingEmails['subject'])\n",
    "bodyWordCount = wordFrequency(phishingEmails['body'])"
   ]
  },
  {
   "cell_type": "code",
   "execution_count": null,
   "id": "c26e4292-f2c2-4e4d-a9b9-63ef3ae74ac7",
   "metadata": {},
   "outputs": [],
   "source": [
    "# แปลงความถี่ของคำเป็น DataFrame และเรียงลำดับจากมากไปน้อย\n",
    "subjectWordCountDataframe = pd.DataFrame(subjectWordCount.items(), columns=['Word', 'Frequency']).sort_values(by='Frequency', ascending=False)\n",
    "bodyWordCountDataframe = pd.DataFrame(bodyWordCount.items(), columns=['Word', 'Frequency']).sort_values(by='Frequency', ascending=False)"
   ]
  },
  {
   "cell_type": "code",
   "execution_count": null,
   "id": "4bfcb992-4f81-4f8a-aa19-4a3a6aa63b0d",
   "metadata": {},
   "outputs": [],
   "source": [
    "# บันทึกข้อมูลลงในไฟล์ CSV โดยใช้ PascalCase และเรียงลำดับจากความถี่มากไปน้อย\n",
    "subjectWordCountDataframe.to_csv('SubjectWordCountPhishingSorted.csv', index=False)\n",
    "bodyWordCountDataframe.to_csv('BodyWordCountPhishingSorted.csv', index=False)"
   ]
  }
 ],
 "metadata": {
  "kernelspec": {
   "display_name": "Python 3 (ipykernel)",
   "language": "python",
   "name": "python3"
  },
  "language_info": {
   "codemirror_mode": {
    "name": "ipython",
    "version": 3
   },
   "file_extension": ".py",
   "mimetype": "text/x-python",
   "name": "python",
   "nbconvert_exporter": "python",
   "pygments_lexer": "ipython3",
   "version": "3.11.4"
  }
 },
 "nbformat": 4,
 "nbformat_minor": 5
}

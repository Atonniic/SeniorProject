{
 "cells": [
  {
   "cell_type": "code",
   "execution_count": 1,
   "id": "368899f9-6eaf-4a7d-8018-8751ef3cf6ec",
   "metadata": {},
   "outputs": [],
   "source": [
    "import pandas as pd\n",
    "from sklearn.model_selection import train_test_split"
   ]
  },
  {
   "cell_type": "code",
   "execution_count": null,
   "id": "2e8cb811-ef40-443e-87ef-4c296387dce9",
   "metadata": {},
   "outputs": [],
   "source": [
    "# อ่านไฟล์ข้อมูล\n",
    "non_phishing_df = pd.read_csv('Non-Phishing.csv')\n",
    "phishing_df = pd.read_csv('Phishing.csv')"
   ]
  }
 ],
 "metadata": {
  "kernelspec": {
   "display_name": "Python 3 (ipykernel)",
   "language": "python",
   "name": "python3"
  },
  "language_info": {
   "codemirror_mode": {
    "name": "ipython",
    "version": 3
   },
   "file_extension": ".py",
   "mimetype": "text/x-python",
   "name": "python",
   "nbconvert_exporter": "python",
   "pygments_lexer": "ipython3",
   "version": "3.11.4"
  }
 },
 "nbformat": 4,
 "nbformat_minor": 5
}

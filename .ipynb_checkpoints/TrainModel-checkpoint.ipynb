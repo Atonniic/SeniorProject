{
 "cells": [
  {
   "cell_type": "code",
   "execution_count": null,
   "id": "1c2839a5-4bdb-4fe3-847c-520daace3eea",
   "metadata": {},
   "outputs": [],
   "source": [
    "import pandas as pd\n",
    "import time\n",
    "from sklearn.feature_extraction.text import TfidfVectorizer\n",
    "from sklearn.naive_bayes import MultinomialNB\n",
    "from sklearn.tree import DecisionTreeClassifier\n",
    "from sklearn.ensemble import RandomForestClassifier\n",
    "from sklearn.metrics import accuracy_score, recall_score, precision_score, classification_report, confusion_matrix"
   ]
  },
  {
   "cell_type": "code",
   "execution_count": null,
   "id": "ff9fcb12-5bbb-486e-ab64-e91ebe55fbcf",
   "metadata": {},
   "outputs": [],
   "source": [
    "# Load the datasets\n",
    "X_train = pd.read_csv('Training_Set.csv')\n",
    "y_train = pd.read_csv('Training_Labels.csv')\n",
    "X_test = pd.read_csv('Test_Set.csv')\n",
    "y_test = pd.read_csv('Test_Labels.csv')"
   ]
  },
  {
   "cell_type": "code",
   "execution_count": null,
   "id": "95425c71-749d-4c9c-8131-1256e2c954d7",
   "metadata": {},
   "outputs": [],
   "source": [
    "# Fill NaN values with empty string in 'subject' and 'body' columns\n",
    "X_train['subject'] = X_train['subject'].fillna('')\n",
    "X_train['body'] = X_train['body'].fillna('')\n",
    "X_test['subject'] = X_test['subject'].fillna('')\n",
    "X_test['body'] = X_test['body'].fillna('')"
   ]
  },
  {
   "cell_type": "code",
   "execution_count": null,
   "id": "ae5eff4d-ee46-4a1c-965e-919f7200401a",
   "metadata": {},
   "outputs": [],
   "source": [
    "# Combine text fields into a single field for vectorization\n",
    "X_train['text'] = X_train['subject'] + ' ' + X_train['body']\n",
    "X_test['text'] = X_test['subject'] + ' ' + X_test['body']"
   ]
  },
  {
   "cell_type": "code",
   "execution_count": null,
   "id": "f98e404c-6a46-4f05-ad14-975a82809c8f",
   "metadata": {},
   "outputs": [],
   "source": [
    "# Vectorize the text data using TF-IDF\n",
    "vectorizer = TfidfVectorizer(max_features=5000)\n",
    "X_train_tfidf = vectorizer.fit_transform(X_train['text'])\n",
    "X_test_tfidf = vectorizer.transform(X_test['text'])"
   ]
  },
  {
   "cell_type": "code",
   "execution_count": null,
   "id": "d3f0f4f8-9fb4-4060-b7e1-1a81d1cdf6f5",
   "metadata": {},
   "outputs": [],
   "source": [
    "# Dictionary to store results\n",
    "results = {}"
   ]
  }
 ],
 "metadata": {
  "kernelspec": {
   "display_name": "Python 3 (ipykernel)",
   "language": "python",
   "name": "python3"
  },
  "language_info": {
   "codemirror_mode": {
    "name": "ipython",
    "version": 3
   },
   "file_extension": ".py",
   "mimetype": "text/x-python",
   "name": "python",
   "nbconvert_exporter": "python",
   "pygments_lexer": "ipython3",
   "version": "3.11.4"
  }
 },
 "nbformat": 4,
 "nbformat_minor": 5
}

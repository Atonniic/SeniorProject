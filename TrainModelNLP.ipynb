{
 "cells": [
  {
   "cell_type": "code",
   "execution_count": 4,
   "id": "f085f821-d82f-44f2-a9ca-9c0933f0fdd7",
   "metadata": {},
   "outputs": [],
   "source": [
    "import os\n",
    "os.environ[\"HF_HUB_DISABLE_SYMLINKS_WARNING\"] = \"1\""
   ]
  },
  {
   "cell_type": "code",
   "execution_count": null,
   "id": "a5f244a9-74c7-4f9a-880d-9e91bd32ca70",
   "metadata": {},
   "outputs": [],
   "source": [
    "# Import libraries\n",
    "import pandas as pd\n",
    "from sklearn.model_selection import train_test_split\n",
    "from transformers import AutoTokenizer, AutoModelForSequenceClassification, Trainer, TrainingArguments, DataCollatorWithPadding\n",
    "from datasets import Dataset\n",
    "import numpy as np\n",
    "from sklearn.metrics import accuracy_score, precision_recall_fscore_support"
   ]
  },
  {
   "cell_type": "code",
   "execution_count": null,
   "id": "5a96586e-1fc4-4d4b-9b93-ce204e11c88e",
   "metadata": {},
   "outputs": [],
   "source": [
    "# Step 1: Load and preprocess data\n",
    "# โหลดข้อมูลและรวมชุดข้อมูลการฝึก\n",
    "train_data_part1 = pd.read_csv('TrainData01.csv')\n",
    "train_data_part2 = pd.read_csv('TrainData02.csv')\n",
    "train_data = pd.concat([train_data_part1, train_data_part2], ignore_index=True)\n",
    "\n",
    "test_data = pd.read_csv('TestData.csv')"
   ]
  },
  {
   "cell_type": "code",
   "execution_count": null,
   "id": "eef663ac-2207-4da5-b44a-67873095a290",
   "metadata": {},
   "outputs": [],
   "source": [
    "# รวมข้อความจากหลายคอลัมน์เพื่อใช้เป็นฟีเจอร์ข้อความ\n",
    "train_data['text'] = train_data['subject'] + ' ' + train_data['email_from'] + ' ' + train_data['email_to'] + ' ' + train_data['cleanMessage']\n",
    "test_data['text'] = test_data['subject'] + ' ' + test_data['email_from'] + ' ' + test_data['email_to'] + ' ' + test_data['cleanMessage']"
   ]
  },
  {
   "cell_type": "code",
   "execution_count": null,
   "id": "053dd0eb-2140-4c52-934d-ce725239b84c",
   "metadata": {},
   "outputs": [],
   "source": [
    "# ลบข้อมูลที่มีค่า NaN\n",
    "train_data = train_data.dropna(subset=['text', 'label'])\n",
    "test_data = test_data.dropna(subset=['text', 'label'])"
   ]
  },
  {
   "cell_type": "code",
   "execution_count": null,
   "id": "033593eb-6f97-4798-941e-146b41d777d1",
   "metadata": {},
   "outputs": [],
   "source": [
    "# แปลงข้อมูลเป็น Huggingface Dataset\n",
    "train_dataset = Dataset.from_pandas(train_data[['text', 'label']])\n",
    "test_dataset = Dataset.from_pandas(test_data[['text', 'label']])"
   ]
  },
  {
   "cell_type": "code",
   "execution_count": null,
   "id": "4432a579-291e-4ee6-a4f6-25f0d8ff6b7b",
   "metadata": {},
   "outputs": [],
   "source": [
    "# Step 2: Tokenization\n",
    "# โหลด tokenizer สำหรับ DistilBERT\n",
    "model_name = \"distilbert-base-uncased\"\n",
    "tokenizer = AutoTokenizer.from_pretrained(model_name)"
   ]
  },
  {
   "cell_type": "code",
   "execution_count": null,
   "id": "a3f7e0e0-b627-4ea5-aec0-930a0da0eb5d",
   "metadata": {},
   "outputs": [],
   "source": [
    "# สร้างฟังก์ชันสำหรับ Tokenize\n",
    "def tokenize_function(examples):\n",
    "    return tokenizer(examples['text'], padding=\"max_length\", truncation=True)"
   ]
  },
  {
   "cell_type": "code",
   "execution_count": null,
   "id": "a888790c-d675-440b-8e87-ad134843952b",
   "metadata": {},
   "outputs": [],
   "source": [
    "# ใช้ Tokenizer กับข้อมูล\n",
    "tokenized_train_dataset = train_dataset.map(tokenize_function, batched=True)\n",
    "tokenized_test_dataset = test_dataset.map(tokenize_function, batched=True)"
   ]
  },
  {
   "cell_type": "code",
   "execution_count": null,
   "id": "3a078413-6c29-45f6-a38e-58a91ff07202",
   "metadata": {},
   "outputs": [],
   "source": [
    "# Step 3: Prepare the model\n",
    "# โหลดโมเดล DistilBERT สำหรับการจำแนกประเภท\n",
    "model = AutoModelForSequenceClassification.from_pretrained(model_name, num_labels=2)"
   ]
  },
  {
   "cell_type": "code",
   "execution_count": null,
   "id": "fa6a84dc-19e0-4e1a-b10e-b6a969cb00c0",
   "metadata": {},
   "outputs": [],
   "source": [
    "# Step 4: Training arguments\n",
    "# ตั้งค่าพารามิเตอร์สำหรับการฝึกโมเดล\n",
    "training_args = TrainingArguments(\n",
    "    output_dir=\"./results\",                 # ไดเรกทอรีสำหรับบันทึกผล\n",
    "    eval_strategy=\"epoch\",                 # ประเมินผลทุกๆ 1 epoch\n",
    "    save_strategy=\"epoch\",                 # บันทึกโมเดลทุกๆ 1 epoch\n",
    "    learning_rate=2e-5,                    # Learning rate\n",
    "    per_device_train_batch_size=16,        # Batch size สำหรับการฝึก\n",
    "    per_device_eval_batch_size=16,         # Batch size สำหรับการประเมิน\n",
    "    num_train_epochs=3,                    # จำนวนรอบการฝึก\n",
    "    weight_decay=0.01,                     # ค่า Weight Decay\n",
    "    logging_dir=\"./logs\",                  # ไดเรกทอรีสำหรับ Logs\n",
    "    logging_steps=10,                      # Log ทุกๆ 10 step\n",
    "    load_best_model_at_end=True,           # โหลดโมเดลที่ดีที่สุดเมื่อสิ้นสุดการฝึก\n",
    "    metric_for_best_model=\"accuracy\"       # ใช้ Accuracy ในการวัดโมเดลที่ดีที่สุด\n",
    ")"
   ]
  },
  {
   "cell_type": "code",
   "execution_count": null,
   "id": "64bc96a0-7ca1-45a7-9809-7620576aa1ba",
   "metadata": {},
   "outputs": [],
   "source": [
    "# Step 5: Data Collator\n",
    "# ใช้ DataCollatorWithPadding แทน tokenizer ใน Trainer\n",
    "data_collator = DataCollatorWithPadding(tokenizer=tokenizer)"
   ]
  },
  {
   "cell_type": "code",
   "execution_count": null,
   "id": "56abcf27-e6bf-411c-9829-09604f797acb",
   "metadata": {},
   "outputs": [],
   "source": [
    "# Step 6: Define metrics\n",
    "# ฟังก์ชันคำนวณ metrics สำหรับการประเมินผล\n",
    "def compute_metrics(eval_pred):\n",
    "    logits, labels = eval_pred\n",
    "    predictions = np.argmax(logits, axis=-1)\n",
    "    precision, recall, f1, _ = precision_recall_fscore_support(labels, predictions, average='binary')\n",
    "    acc = accuracy_score(labels, predictions)\n",
    "    return {\"accuracy\": acc, \"precision\": precision, \"recall\": recall, \"f1\": f1}"
   ]
  },
  {
   "cell_type": "code",
   "execution_count": null,
   "id": "234594e8-fb46-4c86-9dae-7c084a40ca32",
   "metadata": {},
   "outputs": [],
   "source": [
    "# Step 7: Create Trainer\n",
    "# สร้าง Trainer สำหรับการฝึกและประเมินโมเดล\n",
    "trainer = Trainer(\n",
    "    model=model,\n",
    "    args=training_args,\n",
    "    train_dataset=tokenized_train_dataset,\n",
    "    eval_dataset=tokenized_test_dataset,\n",
    "    data_collator=data_collator,\n",
    "    compute_metrics=compute_metrics\n",
    ")"
   ]
  },
  {
   "cell_type": "code",
   "execution_count": null,
   "id": "d32956e3-ffca-476f-804e-4635c59ea359",
   "metadata": {},
   "outputs": [],
   "source": [
    "# Step 8: Train the model\n",
    "print(\"Starting model training...\")\n",
    "trainer.train()"
   ]
  },
  {
   "cell_type": "code",
   "execution_count": null,
   "id": "832be27a-0c74-491a-bc76-be1f3e3aae8e",
   "metadata": {},
   "outputs": [],
   "source": [
    "# Step 9: Evaluate the model\n",
    "print(\"Evaluating the model...\")\n",
    "results = trainer.evaluate()\n",
    "print(\"Evaluation Results:\", results)"
   ]
  },
  {
   "cell_type": "code",
   "execution_count": null,
   "id": "6123c7fc-0848-4e78-a7df-a8b89ce8f5c6",
   "metadata": {},
   "outputs": [],
   "source": [
    "# Step 10: Save the model\n",
    "# บันทึกโมเดลและ tokenizer\n",
    "print(\"Saving the model...\")\n",
    "model.save_pretrained('./phishing_detector_model')\n",
    "tokenizer.save_pretrained('./phishing_detector_model')\n",
    "\n",
    "print(\"Training and evaluation completed successfully!\")"
   ]
  }
 ],
 "metadata": {
  "kernelspec": {
   "display_name": "Python 3.11 (accelerate)",
   "language": "python",
   "name": "python311"
  },
  "language_info": {
   "codemirror_mode": {
    "name": "ipython",
    "version": 3
   },
   "file_extension": ".py",
   "mimetype": "text/x-python",
   "name": "python",
   "nbconvert_exporter": "python",
   "pygments_lexer": "ipython3",
   "version": "3.11.4"
  }
 },
 "nbformat": 4,
 "nbformat_minor": 5
}

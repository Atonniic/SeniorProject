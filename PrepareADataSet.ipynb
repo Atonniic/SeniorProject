{
 "cells": [
  {
   "cell_type": "code",
   "execution_count": 2,
   "id": "368899f9-6eaf-4a7d-8018-8751ef3cf6ec",
   "metadata": {},
   "outputs": [],
   "source": [
    "import pandas as pd\n",
    "from sklearn.model_selection import train_test_split"
   ]
  },
  {
   "cell_type": "code",
   "execution_count": 3,
   "id": "2e8cb811-ef40-443e-87ef-4c296387dce9",
   "metadata": {},
   "outputs": [],
   "source": [
    "# อ่านไฟล์ข้อมูล\n",
    "nonPhishingDf = pd.read_csv('Non-Phishing.csv')\n",
    "phishingDf = pd.read_csv('Phishing.csv')"
   ]
  },
  {
   "cell_type": "code",
   "execution_count": 4,
   "id": "f5d97b79-330a-4881-bba3-534cbf1f807d",
   "metadata": {},
   "outputs": [],
   "source": [
    "# จัดการคอลัมน์ให้สอดคล้องกัน\n",
    "# เรียงคอลัมน์ให้เหมือนกัน: sender, receiver, date, subject, body, urls, label\n",
    "nonPhishingDf = nonPhishingDf[['sender', 'receiver', 'date', 'subject', 'body', 'urls', 'label']]\n",
    "phishingDf = phishingDf[['sender', 'receiver', 'date', 'subject', 'body', 'urls', 'label']]"
   ]
  },
  {
   "cell_type": "code",
   "execution_count": 5,
   "id": "d12829cf-17b8-4f36-90fd-f46eef7e6a81",
   "metadata": {},
   "outputs": [],
   "source": [
    "# ทำความสะอาดข้อมูล โดยลบแถวที่มีค่าว่างในคอลัมน์ที่สำคัญ\n",
    "allEmails = pd.concat([nonPhishingDf, phishingDf], ignore_index=True)\n",
    "allEmails.dropna(subset=['sender', 'receiver', 'date', 'subject', 'body', 'urls', 'label'], inplace=True)"
   ]
  },
  {
   "cell_type": "code",
   "execution_count": 6,
   "id": "6dff6662-e084-4762-9be7-e8f64679c7df",
   "metadata": {},
   "outputs": [],
   "source": [
    "# แบ่งข้อมูลเป็นฟีเจอร์และเลเบล\n",
    "X = allEmails.drop('label', axis=1)\n",
    "y = allEmails['label']"
   ]
  },
  {
   "cell_type": "code",
   "execution_count": 7,
   "id": "a3080ef4-c8c1-4b50-b7bd-196963a06cbf",
   "metadata": {},
   "outputs": [],
   "source": [
    "# แบ่งข้อมูลเป็นชุดฝึกและชุดทดสอบ โดยให้มีอัตราส่วนของอีเมลธรรมดาและอีเมล phishing ใกล้เคียงกัน\n",
    "X_train, X_test, y_train, y_test = train_test_split(X, y, test_size=0.2, random_state=42, stratify=y)"
   ]
  },
  {
   "cell_type": "code",
   "execution_count": 8,
   "id": "df0094b4-3358-47f2-8b41-a745df07b919",
   "metadata": {},
   "outputs": [],
   "source": [
    "# บันทึกชุดข้อมูลฝึกและทดสอบลงไฟล์\n",
    "X_train.to_csv('TrainingSet.csv', index=False)\n",
    "y_train.to_csv('TrainingLabels.csv', index=False)\n",
    "X_test.to_csv('TestSet.csv', index=False)\n",
    "y_test.to_csv('TestLabels.csv', index=False)"
   ]
  },
  {
   "cell_type": "code",
   "execution_count": null,
   "id": "40b8d237-2417-4ac4-b250-67eb98391c7d",
   "metadata": {},
   "outputs": [],
   "source": []
  }
 ],
 "metadata": {
  "kernelspec": {
   "display_name": "Python 3 (ipykernel)",
   "language": "python",
   "name": "python3"
  },
  "language_info": {
   "codemirror_mode": {
    "name": "ipython",
    "version": 3
   },
   "file_extension": ".py",
   "mimetype": "text/x-python",
   "name": "python",
   "nbconvert_exporter": "python",
   "pygments_lexer": "ipython3",
   "version": "3.11.4"
  }
 },
 "nbformat": 4,
 "nbformat_minor": 5
}

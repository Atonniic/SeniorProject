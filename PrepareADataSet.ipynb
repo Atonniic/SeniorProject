{
 "cells": [
  {
   "cell_type": "code",
   "execution_count": 1,
   "id": "f713c715-a6b0-4594-8832-5ffe1a2928ce",
   "metadata": {},
   "outputs": [],
   "source": [
    "import pandas as pd\n",
    "from sklearn.model_selection import train_test_split\n",
    "from sklearn.utils import resample"
   ]
  },
  {
   "cell_type": "code",
   "execution_count": 2,
   "id": "d0a2edf8-43a6-40a1-8798-d46618a74085",
   "metadata": {},
   "outputs": [],
   "source": [
    "# อ่านไฟล์ข้อมูลจากหลายไฟล์และรวมเข้าด้วยกัน\n",
    "filePathList = [\n",
    "    'TrecDataset/clean/cleanTrec01.csv',\n",
    "    'TrecDataset/clean/cleanTrec02.csv',\n",
    "    'TrecDataset/clean/cleanTrec03.csv',\n",
    "    'TrecDataset/clean/cleanTrec04.csv'\n",
    "]"
   ]
  },
  {
   "cell_type": "code",
   "execution_count": 3,
   "id": "1da65afb-ed1a-4889-bebe-686eb1f143a3",
   "metadata": {},
   "outputs": [],
   "source": [
    "# โหลดข้อมูลทั้งหมดและรวมเป็น DataFrame เดียว\n",
    "dataFrames = [pd.read_csv(filePath) for filePath in filePathList]\n",
    "allData = pd.concat(dataFrames, ignore_index=True)"
   ]
  },
  {
   "cell_type": "code",
   "execution_count": 4,
   "id": "d0285331-70c6-468d-bd5d-634babeb1f1c",
   "metadata": {},
   "outputs": [
    {
     "name": "stdout",
     "output_type": "stream",
     "text": [
      "Original dataset label distribution:\n",
      "label\n",
      "1    0.665602\n",
      "0    0.334398\n",
      "Name: proportion, dtype: float64\n",
      "label\n",
      "1    50199\n",
      "0    25220\n",
      "Name: count, dtype: int64\n"
     ]
    }
   ],
   "source": [
    "# ตรวจสอบการกระจายตัวของข้อมูลก่อนการทำ undersampling\n",
    "print(\"Original dataset label distribution:\")\n",
    "print(allData['label'].value_counts(normalize=True))\n",
    "print(allData['label'].value_counts())"
   ]
  },
  {
   "cell_type": "code",
   "execution_count": 5,
   "id": "27cfcc3b-a037-45fa-80d9-ed9951b1f09f",
   "metadata": {},
   "outputs": [],
   "source": [
    "# แยกข้อมูลตาม label\n",
    "dataLabel0 = allData[allData['label'] == 0]\n",
    "dataLabel1 = allData[allData['label'] == 1]"
   ]
  },
  {
   "cell_type": "code",
   "execution_count": 6,
   "id": "a25b576b-6dc0-42cb-85a9-e42f1542548d",
   "metadata": {},
   "outputs": [],
   "source": [
    "# ทำ undersampling ของ class ที่มีจำนวนมากกว่า (label 0 ในกรณีนี้)\n",
    "if len(dataLabel0) > len(dataLabel1):\n",
    "    dataLabel0 = resample(dataLabel0, \n",
    "                          replace=False,  # ไม่ทำซ้ำข้อมูล\n",
    "                          n_samples=len(dataLabel1),  # ให้มีขนาดเท่ากับ class ที่น้อยกว่า\n",
    "                          random_state=42)\n",
    "else:\n",
    "    dataLabel1 = resample(dataLabel1, \n",
    "                          replace=False, \n",
    "                          n_samples=len(dataLabel0), \n",
    "                          random_state=42)"
   ]
  },
  {
   "cell_type": "code",
   "execution_count": 7,
   "id": "fa06fb8e-7292-4b18-b9b9-fb4d07f30a4f",
   "metadata": {},
   "outputs": [],
   "source": [
    "# รวมข้อมูลที่ทำการ undersample แล้ว\n",
    "balancedData = pd.concat([dataLabel0, dataLabel1], ignore_index=True)"
   ]
  },
  {
   "cell_type": "code",
   "execution_count": 8,
   "id": "5023d43a-65a3-4eda-817c-3636f6ee8207",
   "metadata": {},
   "outputs": [],
   "source": [
    "# แบ่งข้อมูลเป็นชุดฝึกและชุดทดสอบในอัตราส่วน 70:30 โดยคงสัดส่วน label เท่าเดิม\n",
    "trainData, testData = train_test_split(balancedData, test_size=0.3, random_state=42, stratify=balancedData['label'])"
   ]
  },
  {
   "cell_type": "code",
   "execution_count": 9,
   "id": "71b7610d-051c-43ad-af00-9018c70da0ce",
   "metadata": {},
   "outputs": [],
   "source": [
    "# แบ่ง trainData ออกเป็นสองส่วน (ครึ่งหนึ่ง) เพื่อบันทึกเป็นสองไฟล์\n",
    "half_index = len(trainData) // 2\n",
    "trainData01 = trainData.iloc[:half_index]\n",
    "trainData02 = trainData.iloc[half_index:]"
   ]
  },
  {
   "cell_type": "code",
   "execution_count": 10,
   "id": "7e46b30a-cf85-4af3-9c45-21baa68325ca",
   "metadata": {},
   "outputs": [
    {
     "name": "stdout",
     "output_type": "stream",
     "text": [
      "\n",
      "Training set 01 label distribution:\n",
      "label\n",
      "0    0.501699\n",
      "1    0.498301\n",
      "Name: proportion, dtype: float64\n",
      "label\n",
      "0    8857\n",
      "1    8797\n",
      "Name: count, dtype: int64\n",
      "\n",
      "Training set 02 label distribution:\n",
      "label\n",
      "1    0.501699\n",
      "0    0.498301\n",
      "Name: proportion, dtype: float64\n",
      "label\n",
      "1    8857\n",
      "0    8797\n",
      "Name: count, dtype: int64\n",
      "\n",
      "Test set label distribution:\n",
      "label\n",
      "1    0.5\n",
      "0    0.5\n",
      "Name: proportion, dtype: float64\n",
      "label\n",
      "1    7566\n",
      "0    7566\n",
      "Name: count, dtype: int64\n"
     ]
    }
   ],
   "source": [
    "# ตรวจสอบการกระจายตัวของ label ในชุดฝึกและชุดทดสอบ\n",
    "print(\"\\nTraining set 01 label distribution:\")\n",
    "print(trainData01['label'].value_counts(normalize=True))\n",
    "print(trainData01['label'].value_counts())\n",
    "\n",
    "print(\"\\nTraining set 02 label distribution:\")\n",
    "print(trainData02['label'].value_counts(normalize=True))\n",
    "print(trainData02['label'].value_counts())\n",
    "\n",
    "print(\"\\nTest set label distribution:\")\n",
    "print(testData['label'].value_counts(normalize=True))\n",
    "print(testData['label'].value_counts())"
   ]
  },
  {
   "cell_type": "code",
   "execution_count": 11,
   "id": "be05559f-e3ea-4276-941c-8ef03c521ea9",
   "metadata": {},
   "outputs": [],
   "source": [
    "# บันทึกไฟล์แยกออกเป็นสองไฟล์สำหรับ trainData และไฟล์สำหรับ testData\n",
    "trainData01.to_csv('TrainData01.csv', index=False)\n",
    "trainData02.to_csv('TrainData02.csv', index=False)\n",
    "testData.to_csv('TestData.csv', index=False)"
   ]
  }
 ],
 "metadata": {
  "kernelspec": {
   "display_name": "Python 3 (ipykernel)",
   "language": "python",
   "name": "python3"
  },
  "language_info": {
   "codemirror_mode": {
    "name": "ipython",
    "version": 3
   },
   "file_extension": ".py",
   "mimetype": "text/x-python",
   "name": "python",
   "nbconvert_exporter": "python",
   "pygments_lexer": "ipython3",
   "version": "3.11.4"
  }
 },
 "nbformat": 4,
 "nbformat_minor": 5
}
